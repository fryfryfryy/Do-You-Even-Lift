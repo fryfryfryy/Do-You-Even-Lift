import pandas as pd

df = pd.read_csv('Do_You_Even_Lift.csv').dropna(axis='index', how='all')

df = df.dropna(axis='columns', how='all')

initial_columns = list(df.columns)

df = df.drop(columns=['Unnamed: 7', 'Unnamed: 8'])

person_rows = df['Session'].str.contains('first name')

header_rows = df['Session'].str.contains('Session')

df.loc[person_rows, 'Person Index'] = range(0, sum(person_rows))

df.loc[person_rows, 'First Name'] = df.loc[person_rows, 'Session'].str.replace('first name: ', '')

df.loc[person_rows, 'Last Name'] = df.loc[person_rows, 'Bench(lbs)'].str.replace('last name: ', '')

df.loc[person_rows, 'Date'] = df.loc[person_rows, 'Squat(lbs)'].str.replace('date: ', '')

ffill_columns = ['Person Index', 'First Name', 'Last Name', 'Date']

df.loc[:, ffill_columns] = df.loc[:, ffill_columns].ffill()

df['Person Index'] = df['Person Index'].astype(int)

df = df.loc[~person_rows & ~header_rows, ffill_columns + initial_columns].reset_index(drop=True)
